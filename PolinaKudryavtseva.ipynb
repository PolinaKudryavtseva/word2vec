{
 "cells": [
  {
   "cell_type": "markdown",
   "metadata": {},
   "source": [
    "### Полина Кудрявцева, БКЛ182 (лингвист)"
   ]
  },
  {
   "cell_type": "markdown",
   "metadata": {},
   "source": [
    "* Здесь добавляются необходимые для задания библиотеки."
   ]
  },
  {
   "cell_type": "code",
   "execution_count": 1,
   "metadata": {},
   "outputs": [],
   "source": [
    "import re\n",
    "import json\n",
    "import gensim\n",
    "import logging\n",
    "import nltk.data\n",
    "import pandas as pd\n",
    "import urllib.request\n",
    "import random\n",
    "from bs4 import BeautifulSoup\n",
    "from string import punctuation\n",
    "from nltk.tokenize import word_tokenize\n",
    "from nltk.corpus import stopwords\n",
    "from gensim.models import word2vec\n",
    "from pymorphy2 import MorphAnalyzer\n",
    "morph = MorphAnalyzer()\n",
    "\n",
    "from pymystem3 import Mystem\n",
    "m = Mystem()\n",
    "\n",
    "import warnings\n",
    "warnings.filterwarnings('ignore')\n",
    "\n",
    "from sklearn.decomposition import PCA\n",
    "import matplotlib.pyplot as plt\n",
    "%matplotlib inline"
   ]
  },
  {
   "cell_type": "markdown",
   "metadata": {},
   "source": [
    "* Здесь читается файл и проводится лемматизация текста."
   ]
  },
  {
   "cell_type": "code",
   "execution_count": 2,
   "metadata": {},
   "outputs": [],
   "source": [
    "with open('A Moveable Feast.txt', 'r', encoding='utf-8') as file:\n",
    "    text = file.read()"
   ]
  },
  {
   "cell_type": "code",
   "execution_count": 3,
   "metadata": {},
   "outputs": [],
   "source": [
    "lemmas = m.lemmatize(text)"
   ]
  },
  {
   "cell_type": "markdown",
   "metadata": {},
   "source": [
    "* Каждое предложение пишется на отдельной строчке (с помощью replace).\n",
    "* Из текста убирается пунктуация.\n",
    "* Текст приводится к нижнему регистру.\n",
    "* Результат записывается в новый файл."
   ]
  },
  {
   "cell_type": "code",
   "execution_count": 4,
   "metadata": {},
   "outputs": [],
   "source": [
    "lemmatized_text = str(lemmas)\n",
    "\n",
    "spl_lem_text = lemmatized_text.replace('.', '\\n')\n",
    "\n",
    "low_s_l_text = spl_lem_text.lower()\n",
    "\n",
    "cleaned_s_l_text = ''.join(x for x in low_s_l_text if x not in punctuation)\n",
    "\n",
    "cleaned_text = re.sub('[a-zA-Z0-9]', '', cleaned_s_l_text)"
   ]
  },
  {
   "cell_type": "code",
   "execution_count": 5,
   "metadata": {},
   "outputs": [],
   "source": [
    "with open('A Moveable Feast_for_word2vec.txt', 'w', encoding='utf-8') as file:\n",
    "    file.write(str(cleaned_text))"
   ]
  },
  {
   "cell_type": "markdown",
   "metadata": {},
   "source": [
    "* На вход модели идет получившийся файл.\n",
    "* Модель инициализируется по параметрам из задания: размер вектора 300, минимальное количество вхождений 5, окно 5, количество итераций 50.\n",
    "* Подсчитывается время обучения модели и количество слов в ней."
   ]
  },
  {
   "cell_type": "code",
   "execution_count": 6,
   "metadata": {},
   "outputs": [],
   "source": [
    "file = 'A Moveable Feast_for_word2vec.txt'\n",
    "data = gensim.models.word2vec.LineSentence(file)"
   ]
  },
  {
   "cell_type": "code",
   "execution_count": 7,
   "metadata": {},
   "outputs": [
    {
     "name": "stdout",
     "output_type": "stream",
     "text": [
      "CPU times: user 4.65 s, sys: 109 ms, total: 4.76 s\n",
      "Wall time: 2.7 s\n",
      "\n",
      " В этой модели 1055 слов.\n"
     ]
    }
   ],
   "source": [
    "%time model = gensim.models.Word2Vec(data, size=300, window=5, min_count=5, iter=50)\n",
    "\n",
    "print('\\n', 'В этой модели', len(model.wv.vocab), 'слов.')"
   ]
  },
  {
   "cell_type": "markdown",
   "metadata": {},
   "source": [
    "## три ближайших слова для животных"
   ]
  },
  {
   "cell_type": "markdown",
   "metadata": {},
   "source": [
    "* Рассматривается список из рандомных названий животных.\n",
    "* Проверяется наличие каждого элемента списка в модели.\n",
    "* Для тех слов, которые были найдены в тексте, происходит поиск пяти ближайших слов."
   ]
  },
  {
   "cell_type": "code",
   "execution_count": 8,
   "metadata": {},
   "outputs": [
    {
     "name": "stdout",
     "output_type": "stream",
     "text": [
      "Ближайшие пять слов для слова \"кошка\":\n",
      "честный\n",
      "приглашение\n",
      "творчество\n",
      "критика\n",
      "беседа\n",
      "\n",
      "\n",
      "Слова \"мышь\": нет в модели.\n",
      "\n",
      "\n",
      "Ближайшие пять слов для слова \"собака\":\n",
      "греческий\n",
      "храм\n",
      "чистый\n",
      "цыпленок\n",
      "киса\n",
      "\n",
      "\n",
      "Ближайшие пять слов для слова \"кот\":\n",
      "напротив\n",
      "толстый\n",
      "палец\n",
      "ложиться\n",
      "консьержка\n",
      "\n",
      "\n",
      "Слова \"бабочка\": нет в модели.\n",
      "\n",
      "\n"
     ]
    }
   ],
   "source": [
    "animals = ['кошка', 'мышь', 'собака', 'кот', 'бабочка']\n",
    "\n",
    "for animal in animals:\n",
    "    if animal in model:\n",
    "        print('Ближайшие пять слов для слова \"%s\":' % animal)\n",
    "        for i, j in model.wv.most_similar(animal, topn=5):\n",
    "            print(i)\n",
    "        print('\\n')\n",
    "    else:\n",
    "        print('Слова \"%s\": нет в модели.' % animal)\n",
    "        print('\\n')"
   ]
  },
  {
   "cell_type": "markdown",
   "metadata": {},
   "source": [
    "* Интересно, что для слов \"кошка\" и \"кот\" ближайшие слова совсем разные."
   ]
  },
  {
   "cell_type": "markdown",
   "metadata": {},
   "source": [
    "## три ближайших слова для профессий"
   ]
  },
  {
   "cell_type": "markdown",
   "metadata": {},
   "source": [
    "* Рассматривается список из рандомных названий профессий.\n",
    "* Проверяется наличие каждого элемента списка в модели.\n",
    "* Для тех слов, которые были найдены в тексте, происходит поиск пяти ближайших слов."
   ]
  },
  {
   "cell_type": "code",
   "execution_count": 9,
   "metadata": {},
   "outputs": [
    {
     "name": "stdout",
     "output_type": "stream",
     "text": [
      "Ближайшие пять слов для слова \"врач\":\n",
      "достоевский - 0.9342045783996582\n",
      "право - 0.9135309457778931\n",
      "интересный - 0.9076125621795654\n",
      "помоему - 0.9075435400009155\n",
      "убеждать - 0.9011590480804443\n",
      "\n",
      "\n",
      "Ближайшие пять слов для слова \"писатель\":\n",
      "художник - 0.9021217823028564\n",
      "известный - 0.8805851936340332\n",
      "вещь - 0.8586394190788269\n",
      "более - 0.8236606121063232\n",
      "всякий - 0.8127783536911011\n",
      "\n",
      "\n",
      "Ближайшие пять слов для слова \"художник\":\n",
      "известный - 0.9070825576782227\n",
      "писатель - 0.9021217823028564\n",
      "создавать - 0.8857488632202148\n",
      "серьезный - 0.8447312116622925\n",
      "некоторый - 0.8443381190299988\n",
      "\n",
      "\n",
      "Cлова \"машинист\": нет в модели.\n",
      "\n",
      "\n",
      "Ближайшие пять слов для слова \"официант\":\n",
      "коридорный - 0.9331557154655457\n",
      "лимонный - 0.919241189956665\n",
      "сок - 0.8992825746536255\n",
      "приносить - 0.891508936882019\n",
      "виски - 0.8860880732536316\n",
      "\n",
      "\n"
     ]
    }
   ],
   "source": [
    "abstract_things = ['врач', 'писатель', 'художник', 'машинист', 'официант']\n",
    "\n",
    "for thing in abstract_things:\n",
    "    if thing in model:\n",
    "        print('Ближайшие пять слов для слова \"%s\":' % thing)\n",
    "        for i, j in model.wv.most_similar(thing, topn=5):\n",
    "            print(i, '-', j)\n",
    "        print('\\n')\n",
    "    else:\n",
    "        print('Cлова \"%s\": нет в модели.' % thing)\n",
    "        print('\\n')"
   ]
  },
  {
   "cell_type": "markdown",
   "metadata": {},
   "source": [
    "* Интересно, что у \"писателя\" и \"художника\" похожие ближайшие слова. Творческие профессии!\n",
    "* У \"официанта\" очень ожидаемые ближайшие слова. Видимо, чаще всего герои Хэмингуэя и сам писатель заказывали выпить:)"
   ]
  },
  {
   "cell_type": "markdown",
   "metadata": {},
   "source": [
    "## пять ближайших слов для прилагательных \"хороший\" и \"плохой\""
   ]
  },
  {
   "cell_type": "code",
   "execution_count": 10,
   "metadata": {},
   "outputs": [
    {
     "name": "stdout",
     "output_type": "stream",
     "text": [
      "Ближайшие пять слов для прилагательного \"хороший\":\n",
      "вещь - 0.777630090713501\n",
      "создавать - 0.7427278757095337\n",
      "писатель - 0.7421299815177917\n",
      "известный - 0.7282617092132568\n",
      "очень - 0.7201681137084961\n"
     ]
    }
   ],
   "source": [
    "print('Ближайшие пять слов для прилагательного \"хороший\":')\n",
    "for i, j in model.wv.most_similar('хороший', topn=5):\n",
    "    print(i, '-', j)"
   ]
  },
  {
   "cell_type": "code",
   "execution_count": 11,
   "metadata": {},
   "outputs": [
    {
     "name": "stdout",
     "output_type": "stream",
     "text": [
      "Ближайшие пять слов для прилагательного \"плохой\":\n",
      "важный - 0.8500424027442932\n",
      "интересно - 0.8444178700447083\n",
      "творчество - 0.8359591960906982\n",
      "необходимо - 0.8335371613502502\n",
      "точно - 0.8296539783477783\n"
     ]
    }
   ],
   "source": [
    "print('Ближайшие пять слов для прилагательного \"плохой\":')\n",
    "for i, j in model.wv.most_similar('плохой', topn=5):\n",
    "    print(i, '-', j)"
   ]
  },
  {
   "cell_type": "markdown",
   "metadata": {},
   "source": [
    "* Интересно, что одно из ближайших слов для прилагательного \"хороший\" - \"поэт\" и \"художник\". При этом для прилагательного \"плохой\" ближайшим является слово \"творчество\", что удивительно."
   ]
  },
  {
   "cell_type": "markdown",
   "metadata": {},
   "source": [
    "## семантическая пропорция"
   ]
  },
  {
   "cell_type": "code",
   "execution_count": 12,
   "metadata": {},
   "outputs": [
    {
     "name": "stdout",
     "output_type": "stream",
     "text": [
      "[('рассказ', 0.8180609941482544)]\n"
     ]
    }
   ],
   "source": [
    "print(model.wv.most_similar(positive=['художник', 'книга'], negative=['картина'], topn=1))"
   ]
  },
  {
   "cell_type": "markdown",
   "metadata": {},
   "source": [
    "* Я думала, получится писатель.. Вероятно, модель слишком маленькая.\n",
    "* При пересоздании модели иногда выдает \"читать\" - такой вариант тоже выглядит нормально."
   ]
  },
  {
   "cell_type": "markdown",
   "metadata": {},
   "source": [
    "## лишнее в списке"
   ]
  },
  {
   "cell_type": "markdown",
   "metadata": {},
   "source": [
    "* Проверяется наличие каждого из элементов рандомного списка в тексте.\n",
    "* Затем в этом списке происходит поиск лишнего элемента."
   ]
  },
  {
   "cell_type": "code",
   "execution_count": 13,
   "metadata": {},
   "outputs": [
    {
     "name": "stdout",
     "output_type": "stream",
     "text": [
      "Лишнее слово среди в этом списке: ['жизнь', 'любовь', 'смерть'] - жизнь\n"
     ]
    }
   ],
   "source": [
    "words = ['жизнь', 'любовь', 'счастье', 'дружба', 'симпатия', 'спокойствие', 'смерть']\n",
    "\n",
    "words_from_model = []\n",
    "\n",
    "for word in words:\n",
    "    if word in model:\n",
    "        words_from_model.append(word)\n",
    "\n",
    "print('Лишнее слово среди в этом списке:', words_from_model, '-', model.doesnt_match(words_from_model))"
   ]
  },
  {
   "cell_type": "markdown",
   "metadata": {},
   "source": [
    "* Здесь по разным моделям бывает лишним и \"жизнь\", и \"смерть\". Хэмингуэй.."
   ]
  },
  {
   "cell_type": "markdown",
   "metadata": {},
   "source": [
    "## визуализация PCA на именах героев"
   ]
  },
  {
   "cell_type": "markdown",
   "metadata": {},
   "source": [
    "* В книге упоминаются известные литераторы.\n",
    "* \"Скотт\" и \"Фицджеральд\" - это один и тот же человек."
   ]
  },
  {
   "cell_type": "code",
   "execution_count": 14,
   "metadata": {},
   "outputs": [],
   "source": [
    "names = ['достоевский', 'скотт', 'фицджеральд', 'джойс', 'эрнест']\n",
    "X = model[names]"
   ]
  },
  {
   "cell_type": "code",
   "execution_count": 15,
   "metadata": {},
   "outputs": [
    {
     "data": {
      "image/png": "[encoded data removed]",
      "text/plain": [
       "<Figure size 432x288 with 1 Axes>"
      ]
     },
     "metadata": {
      "needs_background": "light"
     },
     "output_type": "display_data"
    }
   ],
   "source": [
    "pca = PCA(n_components=2)\n",
    "pca.fit(model[list(model.wv.vocab)])\n",
    "coords = pca.transform(model[names])\n",
    "\n",
    "plt.scatter(coords[:, 0], coords[:, 1], color='blue')\n",
    "plt.title('Words')\n",
    "\n",
    "for i, name in enumerate(names):\n",
    "    plt.annotate(name, xy=(coords[i, 0], coords[i, 1]))\n",
    "plt.show()"
   ]
  },
  {
   "cell_type": "markdown",
   "metadata": {},
   "source": [
    "* Все правильно, \"фицджеральд\" и \"скотт\" - один и тот же человек, и точки находятся рядом.\n",
    "* А Эрнест - Хэмингуэй - тут главный, в стороне.. но книга ведется от его лица, это определенно повлияло на визуализацию."
   ]
  }
 ],
 "metadata": {
  "kernelspec": {
   "display_name": "Python 3",
   "language": "python",
   "name": "python3"
  },
  "language_info": {
   "codemirror_mode": {
    "name": "ipython",
    "version": 3
   },
   "file_extension": ".py",
   "mimetype": "text/x-python",
   "name": "python",
   "nbconvert_exporter": "python",
   "pygments_lexer": "ipython3",
   "version": "3.7.4"
  }
 },
 "nbformat": 4,
 "nbformat_minor": 2
}
